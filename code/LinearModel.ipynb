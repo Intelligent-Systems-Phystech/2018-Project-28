{
 "cells": [
  {
   "cell_type": "code",
   "execution_count": 377,
   "metadata": {},
   "outputs": [],
   "source": [
    "import numpy as np\n",
    "import scipy.special as sp\n",
    "from tqdm import tqdm\n",
    "import seaborn as sns"
   ]
  },
  {
   "cell_type": "code",
   "execution_count": 378,
   "metadata": {},
   "outputs": [],
   "source": [
    "import numpy as _np\n",
    "import scipy.special as _sp\n",
    "from tqdm import tqdm as _tqdm\n",
    "\n",
    "class BayesMultiLinearModel:\n",
    "    def __init__(self, n_models=20, mu = 0.1, epsilon = 10**(-30)):\n",
    "        self.__n_models = n_models\n",
    "        self.__mu = mu\n",
    "        self.__epsilon = epsilon\n",
    "        self.__A = None\n",
    "        self.__b = None\n",
    "        self.__beta = None\n",
    "        \n",
    "        \n",
    "        self.__Z = None\n",
    "        self.__gamma = None\n",
    "        self.__B = None\n",
    "        self.__m = None\n",
    "        return\n",
    "    \n",
    "    def fit(self, X = None, p = None, epoch = 100):\n",
    "        if X is None:\n",
    "            return 1\n",
    "        if p is None:\n",
    "            return 1\n",
    "        \n",
    "        if self.__A is None:\n",
    "            self.__A = _np.random.rand(self.__n_models, X.shape[1])\n",
    "        if self.__b is None:\n",
    "            self.__b = _np.random.rand(self.__n_models)\n",
    "        if self.__beta is None:\n",
    "            self.__beta = 1\n",
    "            \n",
    "        return self.__fit(X, p, epoch)\n",
    "    \n",
    "    def __fit(self, X, p, epoch):\n",
    "        self.__init_q(X, p)\n",
    "        \n",
    "        for i in _tqdm(range(epoch)):\n",
    "            self.__E_step(X, p)\n",
    "            self.__delete_bad_model(X, p)\n",
    "            self.__M_step(X, p)\n",
    "        return\n",
    "    \n",
    "    def __delete_model(self, X, p, k):\n",
    "        self.__A = _np.vstack([self.__A[:k,:], self.__A[k+1:,:]])\n",
    "        self.__b = _np.hstack([self.__b[:k], self.__b[k+1:]])\n",
    "        self.__n_models -= 1\n",
    "        self.__Z = _np.hstack([self.__Z[:,:k], self.__Z[:,k+1:]])\n",
    "        self.__Z = self.__Z/self.__Z.sum(1).reshape([-1,1])\n",
    "        \n",
    "        self.__gamma = _np.sum(self.__Z, axis=0)\n",
    "        self.__B = _np.array([self.__B_matrix(X, p, k = i) for i in range(self.__n_models)])\n",
    "        self.__m = _np.array([self.__m_vector(X, p, k = i) for i in range(self.__n_models)])\n",
    "        return\n",
    "    \n",
    "    def __delete_bad_model(self, X, p):\n",
    "        flag = 1\n",
    "        while flag == 1:\n",
    "            Estimation = self.__Z.sum(0)\n",
    "            k = _np.argmin(Estimation)\n",
    "            if Estimation[k] < self.__epsilon:\n",
    "                self.__delete_model(X, p, k)\n",
    "            else:\n",
    "                flag = 0\n",
    "            \n",
    "        return\n",
    "    \n",
    "    def n_models(self):\n",
    "        return self.__n_models\n",
    "    \n",
    "    def __M_step(self, X, p):\n",
    "# пересчет A\n",
    "        self.__A = _np.array([self.__A_matrix(k = i) for i in range(self.__n_models)])\n",
    "# пересчет b\n",
    "        self.__b = _np.reshape(_np.array([self.__b_scalar(X, p, k = i) for i in range(self.__n_models)]), [-1])\n",
    "# пересчет beta\n",
    "        self.__beta = self.__beta_scalar(X, p)\n",
    "        return 0\n",
    "    \n",
    "    def __E_step(self, X, p):\n",
    "# пересчет Z\n",
    "        for i in range(X.shape[0]):\n",
    "            for k in range(self.__n_models):\n",
    "                temp_1 = _sp.digamma(self.__mu + self.__gamma[k]) - _sp.digamma(self.__n_models*self.__mu + X.shape[0])\n",
    "                temp_2 = (p[i] - self.__b[k])**2\n",
    "                temp_3 = _np.reshape(((p[i] - self.__b[k])*_np.reshape(X[i], [1, -1])@_np.reshape(self.__m[k], [-1, 1])), [-1])\n",
    "                temp_4 = _np.reshape(_np.reshape(X[i], [1,-1])@(self.__B[k] + _np.reshape(self.__m[k], [-1,1])@_np.reshape(self.__m[k], [1,-1]))@_np.reshape(X[i], [-1,1]), [-1])\n",
    "                self.__Z[i,k] = temp_1 - 0.5*self.__beta*(temp_2 - 2* temp_3 + temp_4)\n",
    "            ex = _np.exp(self.__Z[i] - _np.max(self.__Z[i]))\n",
    "            self.__Z[i] = ex/ex.sum()\n",
    "        \n",
    "# пересчет gamma\n",
    "        self.__gamma = _np.sum(self.__Z, axis=0)\n",
    "        \n",
    "# пересчет w\n",
    "        self.__B = _np.array([self.__B_matrix(X, p, k = i) for i in range(self.__n_models)])\n",
    "        self.__m = _np.array([self.__m_vector(X, p, k = i) for i in range(self.__n_models)])\n",
    "        return 0\n",
    "\n",
    "    \n",
    "    def __init_q(self, X, p):\n",
    "        if self.__Z is None:\n",
    "            m = X.shape[0]\n",
    "            self.__Z = _np.random.rand(m, self.__n_models)\n",
    "            self.__Z = self.__Z/self.__Z.sum(1).reshape([-1,1])\n",
    "        if self.__gamma is None:\n",
    "            self.__gamma = _np.sum(self.__Z, axis=0)\n",
    "        if self.__B is None:\n",
    "            self.__B = _np.array([self.__B_matrix(X, p, k = i) for i in range(self.__n_models)])\n",
    "        if self.__m is None:\n",
    "            self.__m = _np.array([self.__m_vector(X, p, k = i) for i in range(self.__n_models)])\n",
    "        return 0\n",
    "    \n",
    "    def __B_matrix(self, X, p, k = 0):\n",
    "        temp_1 = _np.diag(1/self.__A[k])\n",
    "        temp_2 = 0\n",
    "        for i in range(X.shape[0]):\n",
    "            temp_2 += _np.reshape(X[i], [-1, 1])@_np.reshape(X[i], [1, -1])*self.__Z[i,k]\n",
    "        return _np.linalg.inv(temp_1 + self.__beta*temp_2)\n",
    "    \n",
    "    def __m_vector(self, X, p, k = 0):\n",
    "        temp_1 = 0\n",
    "        for i in range(X.shape[0]):\n",
    "            temp_1 += X[i]*(p[i] - self.__b[k])*self.__Z[i,k]\n",
    "        return self.__beta*self.__B[k]@_np.reshape(temp_1, [-1, 1])\n",
    "    \n",
    "    def __A_matrix(self, k = 0):\n",
    "        return _np.diag(self.__B[k]) + _np.diag(_np.reshape(self.__m[k], [-1,1])@_np.reshape(self.__m[k], [1,-1]))\n",
    "    \n",
    "    def __b_scalar(self, X, p, k = 0):\n",
    "        temp_1 = 0\n",
    "        temp_2 = 0\n",
    "        for i in range(X.shape[0]):\n",
    "            temp_1 += p[i]*self.__Z[i,k]\n",
    "            temp_2 += _np.reshape(_np.reshape(X[i], [1, -1])@_np.reshape(self.__m[k], [-1, 1]), [-1])*self.__Z[i,k]\n",
    "        return (temp_1 - temp_2)/(self.__Z[:,k]).sum()\n",
    "    \n",
    "    def __beta_scalar(self, X, p):\n",
    "        temp_1 = 0\n",
    "        for i in range(X.shape[0]):\n",
    "            for k in range(self.__n_models):\n",
    "                temp_2 = 0\n",
    "                temp_2 += (p[i] - self.__b[k])**2\n",
    "                temp_2 += -2*_np.reshape(((p[i] - self.__b[k])*_np.reshape(X[i], [1, -1])@_np.reshape(self.__m[k], [-1, 1])), [-1])\n",
    "                temp_2 += _np.reshape(_np.reshape(X[i], [1,-1])@(self.__B[k] + _np.reshape(self.__m[k], [-1,1])@_np.reshape(self.__m[k], [1,-1]))@_np.reshape(X[i], [-1,1]), [-1])\n",
    "                temp_1 += temp_2*self.__Z[i,k]\n",
    "        return _np.reshape(temp_1/X.shape[0], [-1])\n",
    "    \n",
    "    def parameters(self):\n",
    "        return self.__A, self.__b , self.__beta\n",
    "    \n",
    "    def q_distribution(self):\n",
    "        return self.__m, self.__B, self.__Z, self.__gamma\n",
    "    "
   ]
  },
  {
   "cell_type": "code",
   "execution_count": 435,
   "metadata": {},
   "outputs": [],
   "source": [
    "m = 1000\n",
    "n = 5\n",
    "k = 2"
   ]
  },
  {
   "cell_type": "code",
   "execution_count": 436,
   "metadata": {},
   "outputs": [],
   "source": [
    "X = np.random.randn(m, n)\n",
    "W = np.array([np.random.normal(loc=0, scale=1, size=n) for i in range (k)])\n",
    "b = np.array([np.random.normal(loc=i*5, scale=1, size=1) for i in range (k)])"
   ]
  },
  {
   "cell_type": "code",
   "execution_count": 437,
   "metadata": {},
   "outputs": [
    {
     "data": {
      "text/plain": [
       "array([[-0.20107261,  0.58252594,  0.56611022, -0.32034648,  1.64421817],\n",
       "       [-1.56403945,  0.03593635,  1.56116254,  1.15963871,  1.32799523]])"
      ]
     },
     "execution_count": 437,
     "metadata": {},
     "output_type": "execute_result"
    }
   ],
   "source": [
    "W"
   ]
  },
  {
   "cell_type": "code",
   "execution_count": 438,
   "metadata": {},
   "outputs": [],
   "source": [
    "w_tr = np.random.choice(k, size=m, p=[0.2, 0.8])"
   ]
  },
  {
   "cell_type": "code",
   "execution_count": 439,
   "metadata": {},
   "outputs": [],
   "source": [
    "P = np.reshape(np.array([np.reshape(W[w_tr[i]], [1,-1])@np.reshape(X[i], [-1, 1]) + b[w_tr[i]] + np.random.normal(loc=0, scale=1) for i in range(m)]), [-1])"
   ]
  },
  {
   "cell_type": "code",
   "execution_count": 440,
   "metadata": {},
   "outputs": [
    {
     "data": {
      "text/plain": [
       "(1000,)"
      ]
     },
     "execution_count": 440,
     "metadata": {},
     "output_type": "execute_result"
    }
   ],
   "source": [
    "P.shape"
   ]
  },
  {
   "cell_type": "code",
   "execution_count": 441,
   "metadata": {},
   "outputs": [
    {
     "name": "stderr",
     "output_type": "stream",
     "text": [
      "/home/vova/anaconda3/lib/python3.6/site-packages/matplotlib/axes/_axes.py:6462: UserWarning: The 'normed' kwarg is deprecated, and has been replaced by the 'density' kwarg.\n",
      "  warnings.warn(\"The 'normed' kwarg is deprecated, and has been \"\n",
      "/home/vova/anaconda3/lib/python3.6/site-packages/matplotlib/axes/_axes.py:6462: UserWarning: The 'normed' kwarg is deprecated, and has been replaced by the 'density' kwarg.\n",
      "  warnings.warn(\"The 'normed' kwarg is deprecated, and has been \"\n"
     ]
    },
    {
     "data": {
      "text/plain": [
       "<matplotlib.axes._subplots.AxesSubplot at 0x7f32ec13d6d8>"
      ]
     },
     "execution_count": 441,
     "metadata": {},
     "output_type": "execute_result"
    },
    {
     "data": {
      "image/png": "[encoded data removed]",
      "text/plain": [
       "<Figure size 432x288 with 1 Axes>"
      ]
     },
     "metadata": {},
     "output_type": "display_data"
    }
   ],
   "source": [
    "sns.distplot(P[w_tr == 0], color='r')\n",
    "sns.distplot(P[w_tr == 1], color='b')"
   ]
  },
  {
   "cell_type": "code",
   "execution_count": 442,
   "metadata": {},
   "outputs": [],
   "source": [
    "n_model = 10"
   ]
  },
  {
   "cell_type": "code",
   "execution_count": 443,
   "metadata": {},
   "outputs": [],
   "source": [
    "model = BayesMultiLinearModel(n_models = n_model, mu = 0.0001)"
   ]
  },
  {
   "cell_type": "code",
   "execution_count": 444,
   "metadata": {},
   "outputs": [
    {
     "name": "stderr",
     "output_type": "stream",
     "text": [
      "100%|██████████| 100/100 [00:27<00:00,  6.58it/s]\n"
     ]
    }
   ],
   "source": [
    "model.fit(X, P, epoch=100)"
   ]
  },
  {
   "cell_type": "code",
   "execution_count": 425,
   "metadata": {},
   "outputs": [],
   "source": [
    "A, b, beta = model.parameters()"
   ]
  },
  {
   "cell_type": "code",
   "execution_count": 426,
   "metadata": {},
   "outputs": [
    {
     "data": {
      "text/plain": [
       "array([-1.44651746,  7.14023162])"
      ]
     },
     "execution_count": 426,
     "metadata": {},
     "output_type": "execute_result"
    }
   ],
   "source": [
    "b"
   ]
  },
  {
   "cell_type": "code",
   "execution_count": 427,
   "metadata": {},
   "outputs": [
    {
     "data": {
      "text/plain": [
       "array([0.9812787])"
      ]
     },
     "execution_count": 427,
     "metadata": {},
     "output_type": "execute_result"
    }
   ],
   "source": [
    "beta"
   ]
  },
  {
   "cell_type": "code",
   "execution_count": 428,
   "metadata": {},
   "outputs": [],
   "source": [
    "_, _, Z, gamma = model.q_distribution()"
   ]
  },
  {
   "cell_type": "code",
   "execution_count": 429,
   "metadata": {},
   "outputs": [
    {
     "data": {
      "text/plain": [
       "array([200.99800641, 799.00199359])"
      ]
     },
     "execution_count": 429,
     "metadata": {},
     "output_type": "execute_result"
    }
   ],
   "source": [
    "Z.sum(0)"
   ]
  },
  {
   "cell_type": "code",
   "execution_count": 433,
   "metadata": {},
   "outputs": [
    {
     "name": "stdout",
     "output_type": "stream",
     "text": [
      "1.0\n"
     ]
    }
   ],
   "source": [
    "correct = 0\n",
    "for i in range(m):\n",
    "    if (Z[i,1] > 0.95 and w_tr[i]==1) or (Z[i,0] > 0.95 and w_tr[i]==0):\n",
    "        correct += 1\n",
    "print(correct/m)"
   ]
  },
  {
   "cell_type": "code",
   "execution_count": null,
   "metadata": {},
   "outputs": [],
   "source": []
  }
 ],
 "metadata": {
  "kernelspec": {
   "display_name": "Python 3",
   "language": "python",
   "name": "python3"
  },
  "language_info": {
   "codemirror_mode": {
    "name": "ipython",
    "version": 3
   },
   "file_extension": ".py",
   "mimetype": "text/x-python",
   "name": "python",
   "nbconvert_exporter": "python",
   "pygments_lexer": "ipython3",
   "version": "3.6.5"
  }
 },
 "nbformat": 4,
 "nbformat_minor": 2
}
